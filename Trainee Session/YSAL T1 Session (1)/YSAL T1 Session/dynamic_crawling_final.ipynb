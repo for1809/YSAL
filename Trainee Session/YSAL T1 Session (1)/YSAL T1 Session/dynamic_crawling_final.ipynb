{
 "cells": [
  {
   "cell_type": "code",
   "execution_count": 1,
   "id": "33815012",
   "metadata": {},
   "outputs": [],
   "source": [
    "import logging\n",
    "import time\n",
    "from selenium import webdriver\n",
    "from selenium.webdriver.common.keys import Keys\n",
    "from selenium.webdriver.chrome.service import Service\n",
    "from selenium.webdriver.chrome.options import Options\n",
    "from selenium.webdriver.support.ui import WebDriverWait\n",
    "from selenium.webdriver.support import expected_conditions as EC\n",
    "from selenium.webdriver.common.by import By\n",
    "from webdriver_manager.chrome import ChromeDriverManager\n",
    "import pandas as pd\n",
    "\n"
   ]
  },
  {
   "cell_type": "code",
   "execution_count": 2,
   "id": "f6d4d6db",
   "metadata": {},
   "outputs": [],
   "source": [
    "# — 로깅 설정 —\n",
    "logging.basicConfig(level=logging.INFO, format='%(asctime)s [%(levelname)s] %(message)s')"
   ]
  },
  {
   "cell_type": "code",
   "execution_count": 3,
   "id": "f5396003",
   "metadata": {},
   "outputs": [
    {
     "name": "stderr",
     "output_type": "stream",
     "text": [
      "2025-07-17 19:19:54,199 [INFO] ====== WebDriver manager ======\n",
      "2025-07-17 19:19:55,259 [INFO] Get LATEST chromedriver version for google-chrome\n",
      "2025-07-17 19:19:55,307 [INFO] Get LATEST chromedriver version for google-chrome\n",
      "2025-07-17 19:19:55,336 [INFO] Driver [C:\\Users\\for18\\.wdm\\drivers\\chromedriver\\win64\\138.0.7204.157\\chromedriver-win32/chromedriver.exe] found in cache\n"
     ]
    }
   ],
   "source": [
    "options = Options()\n",
    "options.add_argument('--no-sandbox')\n",
    "options.add_argument('--disable-dev-shm-usage')\n",
    "\n",
    "service = Service(ChromeDriverManager().install())\n",
    "\n",
    "# 크롬드라이버 실행\n",
    "driver = webdriver.Chrome(service = service)"
   ]
  },
  {
   "cell_type": "code",
   "execution_count": 4,
   "id": "b2aba5fa",
   "metadata": {},
   "outputs": [],
   "source": [
    "# 기사 스크랩하는 과정을 함수로 만들어주기\n",
    "def scrap_news_title(driver): \n",
    "\n",
    "    # 뉴스 기사 제목 스크래핑\n",
    "    # 제목에 해당하는 요소 선택\n",
    "    headline_spans = driver.find_elements(By.CSS_SELECTOR, \"span.sds-comps-text-type-headline1\") \n",
    "    # 리스트에 저장\n",
    "    article_titles = [span.text.strip() for span in headline_spans]\n",
    "\n",
    "    return article_titles"
   ]
  },
  {
   "cell_type": "code",
   "execution_count": 5,
   "id": "61426318",
   "metadata": {},
   "outputs": [],
   "source": [
    "\n",
    "def scrap_news_titles_simple(url, css_selector, max_scroll=5, wait_time=10):\n",
    "    try:\n",
    "        logging.info(f\"접속: {url}\")\n",
    "        driver.get(url)\n",
    "\n",
    "        last_height = driver.execute_script(\"return document.body.scrollHeight\")\n",
    "        logging.info(f\"초기 페이지 높이: {last_height}\")\n",
    "\n",
    "        for i in range(1, max_scroll + 1):\n",
    "            driver.execute_script(\"window.scrollTo(0, document.body.scrollHeight);\")\n",
    "            try:\n",
    "                WebDriverWait(driver, wait_time).until(\n",
    "                    lambda d: d.execute_script(\"return document.body.scrollHeight\") > last_height\n",
    "                )\n",
    "                new_height = driver.execute_script(\"return document.body.scrollHeight\")\n",
    "                logging.info(f\"  스크롤 {i}: 높이 {last_height} → {new_height}\")\n",
    "                last_height = new_height\n",
    "            except Exception:\n",
    "                logging.info(f\"  스크롤 {i}: 더 이상 로드할 콘텐츠 없음 (대기 {wait_time}s 초과)\")\n",
    "                break\n",
    "\n",
    "        # 페이지 소스 파싱 대신, driver에서 직접 헤드라인 추출\n",
    "        titles = scrap_news_title(driver)\n",
    "        logging.info(f\"크롤링된 뉴스 헤드라인 개수: {len(titles)}\")\n",
    "        return titles\n",
    "\n",
    "    except Exception as e:\n",
    "        logging.error(f\"크롤링 중 오류 발생: {e}\")\n",
    "        return []\n",
    "\n",
    "    finally:\n",
    "        driver.quit()\n",
    "        logging.info(\"드라이버 종료\")"
   ]
  },
  {
   "cell_type": "code",
   "execution_count": 6,
   "id": "d5b32ce9",
   "metadata": {},
   "outputs": [],
   "source": [
    "#크롬 드라이버에 url 주소 넣고 실행\n",
    "driver.get('https://www.naver.com/')\n",
    "\n",
    "# 페이지가 완전히 로딩되도록 3초동안 기다림\n",
    "time.sleep(3)"
   ]
  },
  {
   "cell_type": "code",
   "execution_count": 7,
   "id": "29874b88",
   "metadata": {},
   "outputs": [],
   "source": [
    "# 검색어 창을 찾아 search 변수에 저장 (By.XPATH 방식)\n",
    "search_box = driver.find_element(By.XPATH, '/html/body/div[2]/div[1]/div/div[3]/div/div/form/fieldset/div/input')\n"
   ]
  },
  {
   "cell_type": "code",
   "execution_count": 8,
   "id": "251ac943",
   "metadata": {},
   "outputs": [],
   "source": [
    "search_box.click()\n",
    "search_box.clear()    # 혹시 이전 값이 있으면 지우고\n",
    "search_box.send_keys(\"물냉면\", Keys.RETURN)\n",
    "time.sleep(1)"
   ]
  },
  {
   "cell_type": "code",
   "execution_count": 9,
   "id": "203012fa",
   "metadata": {},
   "outputs": [],
   "source": [
    "# (기존 검색 클릭 후) 결과를 로딩할 시간 확보\n",
    "time.sleep(1)\n",
    "news_button = driver.find_element(By.XPATH, '/html/body/div[3]/div[1]/div/div[2]/div[1]/div/div[1]/div/div[1]/div[8]')\n",
    "news_button.click()"
   ]
  },
  {
   "cell_type": "code",
   "execution_count": 10,
   "id": "59064e31",
   "metadata": {},
   "outputs": [
    {
     "name": "stderr",
     "output_type": "stream",
     "text": [
      "2025-07-17 19:20:03,869 [INFO] 접속: https://search.naver.com/search.naver?ssc=tab.news.all&where=news&sm=tab_jum&query=%EB%AC%BC%EB%83%89%EB%A9%B4\n",
      "2025-07-17 19:20:04,159 [INFO] 초기 페이지 높이: 2860\n",
      "2025-07-17 19:20:05,467 [INFO]   스크롤 1: 높이 2860 → 4781\n",
      "2025-07-17 19:20:05,991 [INFO]   스크롤 2: 높이 4781 → 6704\n",
      "2025-07-17 19:20:06,514 [INFO]   스크롤 3: 높이 6704 → 8552\n",
      "2025-07-17 19:20:07,042 [INFO]   스크롤 4: 높이 8552 → 10282\n",
      "2025-07-17 19:20:07,569 [INFO]   스크롤 5: 높이 10282 → 12012\n",
      "2025-07-17 19:20:08,207 [INFO] 크롤링된 뉴스 헤드라인 개수: 60\n",
      "2025-07-17 19:20:10,616 [INFO] 드라이버 종료\n"
     ]
    },
    {
     "name": "stdout",
     "output_type": "stream",
     "text": [
      "1. 오뚜기, '고기고명 평양물냉면' 육수 별도 출시\n",
      "2. ‘고객 입맛 되찾아라’ 본아이에프, 여름맞이 프로모션 전개\n",
      "3. [오늘 뭐 먹지] 빙그레·오뚜기·네스프레소 외\n",
      "4. [유통 브리핑] 대상·오뚜기·농심\n",
      "5. CU, 마이노멀과 저당 간편식 선봬…곤약 물냉면·비빔밥·떡볶이까지\n",
      "6. 물냉면 vs 비빔냉면… 혈당 걱정인 사람, ‘이것’ 선택을\n",
      "7. [유통가 레이더] \"물 들어왔다 노 저어라\"... 농심, 美 LA 갤럭시 홈구장...\n",
      "8. 풀무원, 골프장 여름 시즌 메뉴\n",
      "9. [식품워치] 식품업계, 신제품 출시·팝업·이벤트·콜라보·이벤트·캠페...\n",
      "10. [유통24시] 한화갤러리아 '벤슨' 아이스크림, 스타벅스 판매 外\n",
      "11. [조승연 PD의 맛썰] 평양냉면 순례 2\n",
      "12. ‘우래옥 대기 130팀’… MZ의 ‘힙푸드’ 평양냉면 열전\n",
      "13. CU, 마이노멀과 저당 간편식 출시…곤약 물냉면·비빔밥·떡볶이까지\n",
      "14. \"간편식 냉면 나트륨 주의해야…하루 기준치 초과 제품도\"\n",
      "15. '복면가왕' '물냉면'은 오정태 \"현빈 되려면 수술비 3천만 원...죽을 수...\n",
      "16. [오늘의 언박싱] 오뚜기 ‘평양냉면 육수’·하이트진로 ‘일품진로 25년...\n",
      "17. [AT 유통]GS25·CU·이마트24\n",
      "18. '물냉면'→오정태, '버스 안내원'→현영이었다… \"둘이 붙으면 재밌었을...\n",
      "19. [신상NEWS] CU ‘마이노멀 저당 전주식 비빔밥’·청정원 ‘짜지 않은 리...\n",
      "20. 후루룩 들이켜는 여름의 맛 [떴다! 기자평가단]\n",
      "21. \"CJ 동치미물냉면908g 3490원\" 요기요 '요마트 여름 빅세일페스타'\n",
      "22. 이른 무더위 '여름면 성수기' 길어진다…CJ·농심·팔도·풀무원·오뚜기...\n",
      "23. [오늘의 장바구니] CU·HDC아이파크몰·코리아나화장품·해비치 외\n",
      "24. CJ제일제당, 냉면 4종 리뉴얼…\"외식 전문점 맛 구현\"\n",
      "25. 냉면부터 쫄면까지…CJ제일제당, 여름면 4종 리뉴얼 출시\n",
      "26. \"충주 한복판 3500원짜리 해장국·물냉면 아시나요\"\n",
      "27. [조승연 PD의 맛썰] 평양냉면 순례 1\n",
      "28. [오늘 신제품] 오뚜기 '고단백 컵누들', 대상 '짜지 않은 리치부어스트...\n",
      "29. [브리프]롯데백화점 신세계 현대백화점 이마트 CJ온스타일 갤러리아 롯...\n",
      "30. [K타운 맛따라기] 'LA식 냉면'에 도전한 평양냉면\n",
      "31. 원뿔딜 물냉면 캐시닥·지니어트·타임스프레드 용돈퀴즈 출제\n",
      "32. \"간편식 냉면 10개 중 9개, 나트륨 과다\"\n",
      "33. 풀무원푸드앤컬처, 전국 골프장·리조트에 여름 메뉴 출시\n",
      "34. CU, 마이노멀 저당 저당 간편식 4종 선봬\n",
      "35. CJ제일제당, 함흥비빔냉면·평양물냉면·가쓰오메밀소바·생쫄면 제품 4...\n",
      "36. [이종현의 우리 술과 과학 | 맛있는 술의 비밀] 물냉면은 와인, 군만두는...\n",
      "37. [식사합시다] 유천냉면\n",
      "38. 오정태 “얼굴로 전지현 소속사 길거리 캐스팅, 개그맨도 특채 합격”(...\n",
      "39. 성형 견적 받은 오정태 “현빈 되려면 3천만원, 단 죽을 수 있다고”(복...\n",
      "40. [유통딜리버리] 신세계百ㆍ현대百ㆍ이마트ㆍGS25ㆍCUㆍ롯데홈쇼핑ㆍCJ온...\n",
      "41. 유통가 ‘여름면’ 전쟁 돌입…냉면부터 소바까지 ‘시원한 한 그릇’ ...\n",
      "42. '복면가왕' 앤틱거울 vs 정체 숨긴 8인\n",
      "43. 푹푹 찌는 더위··· \"차가운 냉면 한 그릇 어때요?\"\n",
      "44. “냉면 그냥 먹지 마세요”…아산병원 의사 한마디에 반응 폭발\n",
      "45. [신상품] 롯데마트·슈퍼, '악동 김블루' 콜라보 자유시간\n",
      "46. [오늘 뭐 먹지] 해태아이스·아워홈·롯데칠성음료 외\n",
      "47. \"간편식 냉면 '나트륨' 주의… 하루 권장량 초과 제품 수두룩\"\n",
      "48. 냉면 한 그릇에 '나트륨 폭탄'…10개 중 9개 기준치 초과\n",
      "49. CJ제일제당 '여름면' 4종 리뉴얼\n",
      "50. 풀무원푸드앤컬처, 전국 골프장·리조트에 여름 시즌 메뉴 출시\n",
      "51. [냉면 3선] 냉면의 계절... 여수 찐 냉면집은?\n",
      "52. [식품워치] 식품업계, 신제품 출시·이벤트·리뉴얼·사회공헌활동·기...\n",
      "53. '복면가왕' 앤틱거울, 가왕 4연승 도전…새 복면가수 정체?\n",
      "54. “물냉면 한 그릇 먹고 2만원 결제…도대체 무슨 일이?”\n",
      "55. CJ제일제당, ‘여름면’ 4종 리뉴얼\n",
      "56. [유통가 레이더] 외식 소스 고민 '그만'... CJ프레시웨이, 외식 브랜드 ...\n",
      "57. [N2 생활경제] CJ제일제당, 여름면 4종 리뉴얼 출시...BBQ, 올 상반기 치...\n",
      "58. 고물가 시대, 여름 별미 냉면·삼계탕 몸값 고공행진\n",
      "59. [신상품] 롯데칠성 '핫식스 더 프로', 풀무원 '한우 물냉면' 외\n",
      "60. 풀무원, 한우 물냉면 등 냉면 플래그십 3종 출시…여름면 시장 공략\n"
     ]
    }
   ],
   "source": [
    "titles = []\n",
    "if __name__ == \"__main__\":\n",
    "    url = driver.current_url\n",
    "    for idx, title in enumerate(scrap_news_titles_simple(url, css_selector=None), 1):\n",
    "        print(f\"{idx}. {title}\")\n",
    "        titles.append(title)"
   ]
  },
  {
   "cell_type": "code",
   "execution_count": 11,
   "id": "f2183818",
   "metadata": {},
   "outputs": [],
   "source": [
    "df = pd.DataFrame({\n",
    "    \"headline\": titles\n",
    "})\n",
    "df.to_excel(\"news_headlines.xlsx\", index=False)\n"
   ]
  }
 ],
 "metadata": {
  "kernelspec": {
   "display_name": "base",
   "language": "python",
   "name": "python3"
  },
  "language_info": {
   "codemirror_mode": {
    "name": "ipython",
    "version": 3
   },
   "file_extension": ".py",
   "mimetype": "text/x-python",
   "name": "python",
   "nbconvert_exporter": "python",
   "pygments_lexer": "ipython3",
   "version": "3.13.5"
  }
 },
 "nbformat": 4,
 "nbformat_minor": 5
}
