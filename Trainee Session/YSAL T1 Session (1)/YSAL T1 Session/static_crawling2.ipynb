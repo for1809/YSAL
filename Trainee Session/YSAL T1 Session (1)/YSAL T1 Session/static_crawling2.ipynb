{
 "cells": [
  {
   "cell_type": "code",
   "execution_count": 1,
   "id": "bfbf8509",
   "metadata": {},
   "outputs": [],
   "source": [
    "# python -m pip install -r requirements.txt\n",
    "\n",
    "# 위의 파일이 실행이 안된다면\n",
    "# python -m pip install selenium webdriver-manager beautifulsoup4 pandas\n"
   ]
  },
  {
   "cell_type": "code",
   "execution_count": 2,
   "id": "43706bf6",
   "metadata": {},
   "outputs": [],
   "source": [
    "# 1) 라이브러리 불러오기\n",
    "from selenium import webdriver\n",
    "from selenium.webdriver.chrome.service import Service\n",
    "from webdriver_manager.chrome import ChromeDriverManager\n",
    "from bs4 import BeautifulSoup\n",
    "import pandas as pd"
   ]
  },
  {
   "cell_type": "code",
   "execution_count": 3,
   "id": "04a3ca05",
   "metadata": {},
   "outputs": [],
   "source": [
    "#Selenium 드라이버 설정 (headless 모드) -> BS로 안열리는 경우 이걸로 우회\n",
    "options = webdriver.ChromeOptions()\n",
    "options.add_argument('--headless')\n",
    "driver = webdriver.Chrome(\n",
    "    service=Service(ChromeDriverManager().install()),\n",
    "    options=options\n",
    ")"
   ]
  },
  {
   "cell_type": "code",
   "execution_count": 4,
   "id": "af4ca402",
   "metadata": {},
   "outputs": [],
   "source": [
    "# 페이지 열기\n",
    "url = 'https://www.basketball-reference.com/leagues/NBA_2024_per_game.html'\n",
    "driver.get(url)\n",
    "\n",
    "# 렌더된 HTML 가져오기\n",
    "html = driver.page_source\n",
    "\n",
    "# Selenium 드라이버 종료\n",
    "driver.quit()"
   ]
  },
  {
   "cell_type": "code",
   "execution_count": 5,
   "id": "bd537db0",
   "metadata": {},
   "outputs": [],
   "source": [
    "# BeautifulSoup 으로 파싱\n",
    "soup = BeautifulSoup(html, 'html.parser')\n",
    "\n",
    "# 테이블 선택\n",
    "table = soup.find('table', id='per_game_stats')\n",
    "\n",
    "# thead에서 컬럼명 추출 (첫 번째 th 제거)\n",
    "headers = [th.get_text(strip=True) for th in table.thead.find_all('th')]\n",
    "\n",
    "# tbody에서 선수별 데이터 추출\n",
    "rows = []\n",
    "for tr in table.tbody.find_all('tr'):\n",
    "    if tr.get('class') and 'thead' in tr['class']:\n",
    "        continue\n",
    "    rank = tr.find('th').get_text(strip=True)\n",
    "    stats = [td.get_text(strip=True) for td in tr.find_all('td')]\n",
    "    rows.append([rank] + stats)\n"
   ]
  },
  {
   "cell_type": "code",
   "execution_count": 6,
   "id": "e2d379ff",
   "metadata": {},
   "outputs": [
    {
     "name": "stdout",
     "output_type": "stream",
     "text": [
      "                    Player Pos   G  GS    MP\n",
      "0              Joel Embiid   C  39  39  33.6\n",
      "1              Luka Dončić  PG  70  70  37.5\n",
      "2    Giannis Antetokounmpo  PF  73  73  35.2\n",
      "3  Shai Gilgeous-Alexander  PG  75  75  34.0\n",
      "4            Jalen Brunson  PG  77  77  35.4\n"
     ]
    }
   ],
   "source": [
    "# DataFrame 생성 및 출력\n",
    "df = pd.DataFrame(rows, columns=headers)\n",
    "print(df[['Player','Pos','G','GS','MP']].head())"
   ]
  },
  {
   "cell_type": "code",
   "execution_count": 7,
   "id": "c9fe55e1",
   "metadata": {},
   "outputs": [],
   "source": [
    "# csv로 내보내기\n",
    "df.to_csv('nba_2024_per_game.csv', index=False)"
   ]
  }
 ],
 "metadata": {
  "kernelspec": {
   "display_name": "base",
   "language": "python",
   "name": "python3"
  },
  "language_info": {
   "codemirror_mode": {
    "name": "ipython",
    "version": 3
   },
   "file_extension": ".py",
   "mimetype": "text/x-python",
   "name": "python",
   "nbconvert_exporter": "python",
   "pygments_lexer": "ipython3",
   "version": "3.13.5"
  }
 },
 "nbformat": 4,
 "nbformat_minor": 5
}
